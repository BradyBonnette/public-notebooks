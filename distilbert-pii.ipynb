{
 "cells": [
  {
   "cell_type": "code",
   "execution_count": 32,
   "metadata": {},
   "outputs": [
    {
     "name": "stdout",
     "output_type": "stream",
     "text": [
      "4.42.0.dev0\n"
     ]
    }
   ],
   "source": [
    "import transformers\n",
    "\n",
    "print(transformers.__version__)"
   ]
  },
  {
   "cell_type": "code",
   "execution_count": 33,
   "metadata": {
    "id": "zVvslsfMIrIh"
   },
   "outputs": [],
   "source": [
    "task = \"ner\" # Should be one of \"ner\", \"pos\" or \"chunk\"\n",
    "model_checkpoint = \"distilbert/distilbert-base-multilingual-cased\"\n",
    "batch_size = 16"
   ]
  },
  {
   "cell_type": "code",
   "execution_count": 34,
   "metadata": {
    "id": "IreSlFmlIrIm"
   },
   "outputs": [],
   "source": [
    "from datasets import load_dataset, load_metric"
   ]
  },
  {
   "cell_type": "code",
   "execution_count": 35,
   "metadata": {
    "colab": {
     "base_uri": "https://localhost:8080/",
     "height": 270,
     "referenced_widgets": [
      "69caab03d6264fef9fc5649bffff5e20",
      "3f74532faa86412293d90d3952f38c4a",
      "50615aa59c7247c4804ca5cbc7945bd7",
      "fe962391292a413ca55dc932c4279fa7",
      "299f4b4c07654e53a25f8192bd1d7bbd",
      "ad04ed1038154081bbb0c1444784dcc2",
      "7c667ad22b5740d5a6319f1b1e3a8097",
      "46c2b043c0f84806978784a45a4e203b",
      "80e2943be35f46eeb24c8ab13faa6578",
      "de5956b5008d4fdba807bae57509c393",
      "931db1f7a42f4b46b7ff8c2e1262b994",
      "6c1db72efff5476e842c1386fadbbdba",
      "ccd2f37647c547abb4c719b75a26f2de",
      "d30a66df5c0145e79693e09789d96b81",
      "5fa26fc336274073abbd1d550542ee33",
      "2b34de08115d49d285def9269a53f484",
      "d426be871b424affb455aeb7db5e822e",
      "160bf88485f44f5cb6eaeecba5e0901f",
      "745c0d47d672477b9bb0dae77b926364",
      "d22ab78269cd4ccfbcf70c707057c31b",
      "d298eb19eeff453cba51c2804629d3f4",
      "a7204ade36314c86907c562e0a2158b8",
      "e35d42b2d352498ca3fc8530393786b2",
      "75103f83538d44abada79b51a1cec09e",
      "f6253931d90543e9b5fd0bb2d615f73a",
      "051aa783ff9e47e28d1f9584043815f5",
      "0984b2a14115454bbb009df71c1cf36f",
      "8ab9dfce29854049912178941ef1b289",
      "c9de740e007141958545e269372780a4",
      "cbea68b25d6d4ba09b2ce0f27b1726d5",
      "5781fc45cf8d486cb06ed68853b2c644",
      "d2a92143a08a4951b55bab9bc0a6d0d3",
      "a14c3e40e5254d61ba146f6ec88eae25",
      "c4ffe6f624ce4e978a0d9b864544941a",
      "1aca01c1d8c940dfadd3e7144bb35718",
      "9fbbaae50e6743f2aa19342152398186",
      "fea27ca6c9504fc896181bc1ff5730e5",
      "940d00556cb849b3a689d56e274041c2",
      "5cdf9ed939fb42d4bf77301c80b8afca",
      "94b39ccfef0b4b08bf2fb61bb0a657c1",
      "9a55087c85b74ea08b3e952ac1d73cbe",
      "2361ab124daf47cc885ff61f2899b2af",
      "1a65887eb37747ddb75dc4a40f7285f2",
      "3c946e2260704e6c98593136bd32d921",
      "50d325cdb9844f62a9ecc98e768cb5af",
      "aa781f0cfe454e9da5b53b93e9baabd8",
      "6bb68d3887ef43809eb23feb467f9723",
      "7e29a8b952cf4f4ea42833c8bf55342f",
      "dd5997d01d8947e4b1c211433969b89b",
      "2ace4dc78e2f4f1492a181bcd63304e7",
      "bbee008c2791443d8610371d1f16b62b",
      "31b1c8a2e3334b72b45b083688c1a20c",
      "7fb7c36adc624f7dbbcb4a831c1e4f63",
      "0b7c8f1939074794b3d9221244b1344d",
      "a71908883b064e1fbdddb547a8c41743",
      "2f5223f26c8541fc87e91d2205c39995"
     ]
    },
    "id": "s_AY1ATSIrIq",
    "outputId": "fd0578d1-8895-443d-b56f-5908de9f1b6b"
   },
   "outputs": [
    {
     "name": "stdout",
     "output_type": "stream",
     "text": [
      "-------------------------\n",
      "DatasetDict({\n",
      "    train: Dataset({\n",
      "        features: ['source_text', 'target_text', 'privacy_mask', 'span_labels', 'mbert_text_tokens', 'mbert_bio_labels', 'id', 'language', 'set'],\n",
      "        num_rows: 177677\n",
      "    })\n",
      "    validation: Dataset({\n",
      "        features: ['source_text', 'target_text', 'privacy_mask', 'span_labels', 'mbert_text_tokens', 'mbert_bio_labels', 'id', 'language', 'set'],\n",
      "        num_rows: 47728\n",
      "    })\n",
      "})\n",
      "----------------------\n",
      "Subject: Group Messaging for Admissions Process\n",
      "\n",
      "Good morning, everyone,\n",
      "\n",
      "I hope this message finds you well. As we continue our admissions processes, I would like to update you on the latest developments and key information. Please find below the timeline for our upcoming meetings:\n",
      "\n",
      "- wynqvrh053 - Meeting at 10:20am\n",
      "- luka.burg - Meeting at 21\n",
      "- qahil.wittauer - Meeting at quarter past 13\n",
      "- gholamhossein.ruschke - Meeting at 9:47 PM\n",
      "- pdmjrsyoz1460 \n",
      "---------------------------\n",
      "['O', 'O', 'O', 'O', 'O', 'O', 'O', 'O', 'O', 'O', 'O', 'O', 'O', 'O', 'O', 'O', 'O', 'O', 'O', 'O', 'O', 'O', 'O', 'O', 'O', 'O', 'O', 'O', 'O', 'O', 'O', 'O', 'O', 'O', 'O', 'O', 'O', 'O', 'O', 'O', 'O', 'O', 'O', 'O', 'O', 'O', 'O', 'O', 'O', 'O', 'O', 'O', 'O', 'O', 'O', 'O', 'O', 'O', 'O', 'O', 'O', 'O', 'O', 'O', 'O', 'O', 'O', 'O', 'O', 'O', 'O', 'O', 'O', 'O', 'O', 'O', 'B-USERNAME', 'I-USERNAME', 'I-USERNAME', 'O', 'O', 'O', 'O', 'O', 'O', 'O', 'B-TIME', 'I-TIME', 'I-TIME', 'O', 'B-USERNAME', 'I-USERNAME', 'O', 'O', 'O', 'B-TIME', 'I-TIME', 'I-USERNAME', 'I-USERNAME', 'I-USERNAME', 'I-USERNAME', 'I-USERNAME', 'I-USERNAME', 'I-USERNAME', 'O', 'O', 'O', 'O', 'B-TIME', 'I-TIME', 'I-TIME', 'I-TIME', 'I-TIME', 'I-TIME', 'I-TIME', 'I-TIME', 'I-TIME', 'I-TIME', 'O', 'B-USERNAME', 'I-USERNAME']\n",
      "-------------------------\n",
      "{'input_ids': [101, 24358, 56617, 131, 12054, 44006, 43569, 10142, 25474, 27551, 10107, 66805, 13073, 28757, 117, 48628, 117, 146, 50725, 10531, 30514, 31478, 13028, 11206, 119, 10882, 11951, 17734, 17446, 84153, 10107, 39171, 117, 146, 10894, 11850, 10114, 35896, 13028, 10135, 10105, 50908, 74475, 10111, 18444, 12929, 119, 47464, 17860, 17544, 10105, 10635, 12953, 10142, 17446, 78228, 47307, 131, 118, 191, 13379, 11703, 74052, 10237, 10929, 67574, 118, 50986, 10160, 10150, 131, 10197, 11008, 118, 75592, 119, 11499, 20251, 118, 50986, 10160, 10296, 118, 185, 100962, 10161, 119, 43612, 68330, 10165, 118, 50986, 10160, 28330, 17781, 10249, 118, 25327, 15154, 34927, 73923, 10245, 119, 19867, 10269, 10550, 118, 50986, 10160, 130, 131, 11413, 46161, 118, 184, 10162, 10147, 97575, 16105, 20129, 39900, 50924, 102], 'attention_mask': [1, 1, 1, 1, 1, 1, 1, 1, 1, 1, 1, 1, 1, 1, 1, 1, 1, 1, 1, 1, 1, 1, 1, 1, 1, 1, 1, 1, 1, 1, 1, 1, 1, 1, 1, 1, 1, 1, 1, 1, 1, 1, 1, 1, 1, 1, 1, 1, 1, 1, 1, 1, 1, 1, 1, 1, 1, 1, 1, 1, 1, 1, 1, 1, 1, 1, 1, 1, 1, 1, 1, 1, 1, 1, 1, 1, 1, 1, 1, 1, 1, 1, 1, 1, 1, 1, 1, 1, 1, 1, 1, 1, 1, 1, 1, 1, 1, 1, 1, 1, 1, 1, 1, 1, 1, 1, 1, 1, 1, 1, 1, 1, 1, 1, 1, 1, 1, 1, 1, 1, 1, 1, 1]}\n",
      "-------------------------\n",
      "121 vs 123\n",
      "-------------------------\n",
      "['[CLS]', 'Sub', '##ject', ':', 'Group', 'Mess', '##aging', 'for', 'Ad', '##mission', '##s', 'Process', 'Good', 'morning', ',', 'everyone', ',', 'I', 'hope', 'this', 'message', 'finds', 'you', 'well', '.', 'As', 'we', 'continue', 'our', 'admission', '##s', 'processes', ',', 'I', 'would', 'like', 'to', 'update', 'you', 'on', 'the', 'latest', 'developments', 'and', 'key', 'information', '.', 'Please', 'find', 'below', 'the', 'time', '##line', 'for', 'our', 'upcoming', 'meetings', ':', '-', 'w', '##yn', '##q', '##vr', '##h', '##0', '##53', '-', 'Meeting', 'at', '10', ':', '20', '##am', '-', 'luka', '.', 'bu', '##rg', '-', 'Meeting', 'at', '21', '-', 'q', '##ahi', '##l', '.', 'wit', '##tau', '##er', '-', 'Meeting', 'at', 'quarter', 'past', '13', '-', 'gh', '##ola', '##mh', '##osse', '##in', '.', 'rus', '##ch', '##ke', '-', 'Meeting', 'at', '9', ':', '47', 'PM', '-', 'p', '##d', '##m', '##jr', '##sy', '##oz', '##14', '##60', '[SEP]']\n",
      "-------------------------\n",
      "123\n"
     ]
    }
   ],
   "source": [
    "datasets = load_dataset(\"ai4privacy/pii-masking-300k\")\n",
    "print(\"-------------------------\")\n",
    "print(datasets)\n",
    "print(\"----------------------\")\n",
    "print(datasets[\"train\"][0][\"source_text\"])\n",
    "print(\"---------------------------\")\n",
    "print(datasets[\"train\"][0][\"mbert_bio_labels\"])\n",
    "from transformers import AutoTokenizer\n",
    "tokenizer = AutoTokenizer.from_pretrained(model_checkpoint)\n",
    "\n",
    "tokenized_input = tokenizer(datasets[\"train\"][0][\"source_text\"])\n",
    "print(\"-------------------------\")\n",
    "print(tokenized_input)\n",
    "print(\"-------------------------\")\n",
    "print(f\"{len(datasets['train'][0]['mbert_bio_labels'])} vs {len(tokenized_input['input_ids'])}\")\n",
    "print(\"-------------------------\")\n",
    "tokens = tokenizer.convert_ids_to_tokens(tokenized_input[\"input_ids\"])\n",
    "print(tokens)\n",
    "print(\"-------------------------\")\n",
    "print(f\"{len(tokens)}\")"
   ]
  },
  {
   "cell_type": "code",
   "execution_count": 36,
   "metadata": {},
   "outputs": [],
   "source": [
    "label_list = [\n",
    "    'O',\n",
    "    'B-BOD',\n",
    "    'I-BOD',\n",
    "    'B-BUILDING',\n",
    "    'I-BUILDING',\n",
    "    'B-CARDISSUER',\n",
    "    'I-CARDISSUER',\n",
    "    'B-CITY',\n",
    "    'I-CITY',\n",
    "    'B-COUNTRY',\n",
    "    'I-COUNTRY',\n",
    "    'B-DATE',\n",
    "    'I-DATE',\n",
    "    'B-DRIVERLICENSE',\n",
    "    'I-DRIVERLICENSE',\n",
    "    'B-EMAIL',\n",
    "    'I-EMAIL',\n",
    "    'B-GEOCOORD',\n",
    "    'I-GEOCOORD',\n",
    "    'B-GIVENNAME1',\n",
    "    'I-GIVENNAME1',\n",
    "    'B-GIVENNAME2',\n",
    "    'I-GIVENNAME2',\n",
    "    'B-IDCARD',\n",
    "    'I-IDCARD',\n",
    "    'B-IP',\n",
    "    'I-IP',\n",
    "    'B-LASTNAME1',\n",
    "    'I-LASTNAME1',\n",
    "    'B-LASTNAME2',\n",
    "    'I-LASTNAME2',\n",
    "    'B-LASTNAME3',\n",
    "    'I-LASTNAME3',\n",
    "    'B-PASS',\n",
    "    'I-PASS',\n",
    "    'B-PASSPORT',\n",
    "    'I-PASSPORT',\n",
    "    'B-POSTCODE',\n",
    "    'I-POSTCODE',\n",
    "    'B-SECADDRESS',\n",
    "    'I-SECADDRESS',\n",
    "    'B-SEX',\n",
    "    'I-SEX',\n",
    "    'B-SOCIALNUMBER',\n",
    "    'I-SOCIALNUMBER',\n",
    "    'B-STATE',\n",
    "    'I-STATE',\n",
    "    'B-STREET',\n",
    "    'I-STREET',\n",
    "    'B-TEL',\n",
    "    'I-TEL',\n",
    "    'B-TIME',\n",
    "    'I-TIME',\n",
    "    'B-TITLE',\n",
    "    'I-TITLE',\n",
    "    'B-USERNAME',\n",
    "    'I-USERNAME',\n",
    "]\n",
    "\n",
    "id2label = {i:label for i, label in enumerate(label_list)}\n",
    "label2id = {label:i for i, label in enumerate(label_list)}"
   ]
  },
  {
   "cell_type": "code",
   "execution_count": 37,
   "metadata": {
    "id": "i3j8APAoIrI3"
   },
   "outputs": [],
   "source": [
    "from datasets import ClassLabel, Sequence\n",
    "import random\n",
    "import pandas as pd\n",
    "from IPython.display import display, HTML\n",
    "\n",
    "def show_random_elements(dataset, num_examples=10):\n",
    "    assert num_examples <= len(dataset), \"Can't pick more elements than there are in the dataset.\"\n",
    "    picks = []\n",
    "    for _ in range(num_examples):\n",
    "        pick = random.randint(0, len(dataset)-1)\n",
    "        while pick in picks:\n",
    "            pick = random.randint(0, len(dataset)-1)\n",
    "        picks.append(pick)\n",
    "    \n",
    "    df = pd.DataFrame(dataset[picks])\n",
    "    for column, typ in dataset.features.items():\n",
    "        if isinstance(typ, ClassLabel):\n",
    "            df[column] = df[column].transform(lambda i: typ.names[i])\n",
    "        elif isinstance(typ, Sequence) and isinstance(typ.feature, ClassLabel):\n",
    "            df[column] = df[column].transform(lambda x: [typ.feature.names[i] for i in x])\n",
    "    display(HTML(df.to_html()))"
   ]
  },
  {
   "cell_type": "code",
   "execution_count": 39,
   "metadata": {
    "id": "SZy5tRB_IrI7",
    "outputId": "ba8f2124-e485-488f-8c0c-254f34f24f13",
    "scrolled": true
   },
   "outputs": [
    {
     "data": {
      "text/html": [
       "<table border=\"1\" class=\"dataframe\">\n",
       "  <thead>\n",
       "    <tr style=\"text-align: right;\">\n",
       "      <th></th>\n",
       "      <th>source_text</th>\n",
       "      <th>target_text</th>\n",
       "      <th>privacy_mask</th>\n",
       "      <th>span_labels</th>\n",
       "      <th>mbert_text_tokens</th>\n",
       "      <th>mbert_bio_labels</th>\n",
       "      <th>id</th>\n",
       "      <th>language</th>\n",
       "      <th>set</th>\n",
       "    </tr>\n",
       "  </thead>\n",
       "  <tbody>\n",
       "    <tr>\n",
       "      <th>0</th>\n",
       "      <td>\"1993-06-09T00:00:00, jupettmann, jupettmann@protonmail.com, 756 7650 2377 83, 5888509152, S1389882, Schweiz, 780, Weiherstrasse, Fehren, Solothurn, 4232, 348b:a00d:9b6e:4698:31aa:b42f:b14b:f6d8, United Kingdom, 633, Montague Road, Portsmouth, ENG, PO2, Schweiz, 288, Fauchy, Mont-la-Ville, VD, 1148, CH, 436, Vorstadt, Hägglingen, Aargau, 5607, Villa 244, Schweiz, 372, Sant'Antonio, Lavizzara, Tessin, 66</td>\n",
       "      <td>\"[BOD], [USERNAME], [EMAIL], [SOCIALNUMBER], [DRIVERLICENSE], [PASSPORT], [COUNTRY], [BUILDING], [STREET], [CITY], [STATE], [POSTCODE], [IP], [COUNTRY], [BUILDING], [STREET], [CITY], [STATE], [POSTCODE], [COUNTRY], [BUILDING], [STREET], [CITY], [STATE], [POSTCODE], [COUNTRY], [BUILDING], [STREET], [CITY], [STATE], [POSTCODE], [SECADDRESS], [COUNTRY], [BUILDING], [STREET], [CITY], [STATE], 66</td>\n",
       "      <td>[{'value': '1993-06-09T00:00:00', 'start': 1, 'end': 20, 'label': 'BOD'}, {'value': 'jupettmann', 'start': 22, 'end': 32, 'label': 'USERNAME'}, {'value': 'jupettmann@protonmail.com', 'start': 34, 'end': 59, 'label': 'EMAIL'}, {'value': '756 7650 2377 83', 'start': 61, 'end': 77, 'label': 'SOCIALNUMBER'}, {'value': '5888509152', 'start': 79, 'end': 89, 'label': 'DRIVERLICENSE'}, {'value': 'S1389882', 'start': 91, 'end': 99, 'label': 'PASSPORT'}, {'value': 'Schweiz', 'start': 101, 'end': 108, 'label': 'COUNTRY'}, {'value': '780', 'start': 110, 'end': 113, 'label': 'BUILDING'}, {'value': 'Weiherstrasse', 'start': 115, 'end': 128, 'label': 'STREET'}, {'value': 'Fehren', 'start': 130, 'end': 136, 'label': 'CITY'}, {'value': 'Solothurn', 'start': 138, 'end': 147, 'label': 'STATE'}, {'value': '4232', 'start': 149, 'end': 153, 'label': 'POSTCODE'}, {'value': '348b:a00d:9b6e:4698:31aa:b42f:b14b:f6d8', 'start': 155, 'end': 194, 'label': 'IP'}, {'value': 'United Kingdom', 'start': 196, 'end': 210, 'label': 'COUNTRY'}, {'value': '633', 'start': 212, 'end': 215, 'label': 'BUILDING'}, {'value': 'Montague Road', 'start': 217, 'end': 230, 'label': 'STREET'}, {'value': 'Portsmouth', 'start': 232, 'end': 242, 'label': 'CITY'}, {'value': 'ENG', 'start': 244, 'end': 247, 'label': 'STATE'}, {'value': 'PO2', 'start': 249, 'end': 252, 'label': 'POSTCODE'}, {'value': 'Schweiz', 'start': 254, 'end': 261, 'label': 'COUNTRY'}, {'value': '288', 'start': 263, 'end': 266, 'label': 'BUILDING'}, {'value': 'Fauchy', 'start': 268, 'end': 274, 'label': 'STREET'}, {'value': 'Mont-la-Ville', 'start': 276, 'end': 289, 'label': 'CITY'}, {'value': 'VD', 'start': 291, 'end': 293, 'label': 'STATE'}, {'value': '1148', 'start': 295, 'end': 299, 'label': 'POSTCODE'}, {'value': 'CH', 'start': 301, 'end': 303, 'label': 'COUNTRY'}, {'value': '436', 'start': 305, 'end': 308, 'label': 'BUILDING'}, {'value': 'Vorstadt', 'start': 310, 'end': 318, 'label': 'STREET'}, {'value': 'Hägglingen', 'start': 320, 'end': 330, 'label': 'CITY'}, {'value': 'Aargau', 'start': 332, 'end': 338, 'label': 'STATE'}, {'value': '5607', 'start': 340, 'end': 344, 'label': 'POSTCODE'}, {'value': 'Villa 244', 'start': 346, 'end': 355, 'label': 'SECADDRESS'}, {'value': 'Schweiz', 'start': 357, 'end': 364, 'label': 'COUNTRY'}, {'value': '372', 'start': 366, 'end': 369, 'label': 'BUILDING'}, {'value': 'Sant'Antonio', 'start': 371, 'end': 383, 'label': 'STREET'}, {'value': 'Lavizzara', 'start': 385, 'end': 394, 'label': 'CITY'}, {'value': 'Tessin', 'start': 396, 'end': 402, 'label': 'STATE'}]</td>\n",
       "      <td>[[396, 402, \"STATE\"], [385, 394, \"CITY\"], [371, 383, \"STREET\"], [366, 369, \"BUILDING\"], [357, 364, \"COUNTRY\"], [346, 355, \"SECADDRESS\"], [340, 344, \"POSTCODE\"], [332, 338, \"STATE\"], [320, 330, \"CITY\"], [310, 318, \"STREET\"], [305, 308, \"BUILDING\"], [301, 303, \"COUNTRY\"], [295, 299, \"POSTCODE\"], [291, 293, \"STATE\"], [276, 289, \"CITY\"], [268, 274, \"STREET\"], [263, 266, \"BUILDING\"], [254, 261, \"COUNTRY\"], [249, 252, \"POSTCODE\"], [244, 247, \"STATE\"], [232, 242, \"CITY\"], [217, 230, \"STREET\"], [212, 215, \"BUILDING\"], [196, 210, \"COUNTRY\"], [155, 194, \"IP\"], [149, 153, \"POSTCODE\"], [138, 147, \"STATE\"], [130, 136, \"CITY\"], [115, 128, \"STREET\"], [110, 113, \"BUILDING\"], [101, 108, \"COUNTRY\"], [91, 99, \"PASSPORT\"], [79, 89, \"DRIVERLICENSE\"], [61, 77, \"SOCIALNUMBER\"], [34, 59, \"EMAIL\"], [22, 32, \"USERNAME\"], [1, 20, \"BOD\"]]</td>\n",
       "      <td>[\", 1993, -, 06, -, 09, ##T, ##00, :, 00, :, 00, ,, ju, ##pet, ##tman, ##n, ,, ju, ##pet, ##tman, ##n, @, proton, ##mail, ., com, ,, 756, 765, ##0, 237, ##7, 83, ,, 588, ##85, ##0, ##91, ##52, ,, S1, ##38, ##9, ##8, ##82, ,, Schweiz, ,, 780, ,, Wei, ##hers, ##tras, ##se, ,, Fe, ##hren, ,, Solo, ##thur, ##n, ,, 423, ##2, ,, 348, ##b, :, a, ##00, ##d, :, 9, ##b, ##6, ##e, :, 469, ##8, :, 31, ##aa, :, b, ##42, ##f, :, b, ##14, ##b, :, f, ##6, ##d, ##8, ,, United, Kingdom, ,, ...]</td>\n",
       "      <td>[O, B-BOD, I-BOD, I-BOD, I-BOD, I-BOD, I-BOD, I-BOD, I-BOD, I-BOD, I-BOD, I-BOD, O, B-USERNAME, I-USERNAME, I-USERNAME, I-USERNAME, O, B-EMAIL, I-EMAIL, I-EMAIL, I-EMAIL, I-EMAIL, I-EMAIL, I-EMAIL, I-EMAIL, I-EMAIL, O, B-SOCIALNUMBER, I-SOCIALNUMBER, I-SOCIALNUMBER, I-SOCIALNUMBER, I-SOCIALNUMBER, I-SOCIALNUMBER, O, B-DRIVERLICENSE, I-DRIVERLICENSE, I-DRIVERLICENSE, I-DRIVERLICENSE, I-DRIVERLICENSE, O, B-PASSPORT, I-PASSPORT, I-PASSPORT, I-PASSPORT, I-PASSPORT, O, B-COUNTRY, O, B-BUILDING, O, B-STREET, I-STREET, I-STREET, I-STREET, O, B-CITY, I-CITY, O, B-STATE, I-STATE, I-STATE, O, B-POSTCODE, I-POSTCODE, O, B-IP, I-IP, I-IP, I-IP, I-IP, I-IP, I-IP, I-IP, I-IP, I-IP, I-IP, I-IP, I-IP, I-IP, I-IP, I-IP, I-IP, I-IP, I-IP, I-IP, I-IP, I-IP, I-IP, I-IP, I-IP, I-IP, I-IP, I-IP, I-IP, I-IP, O, B-COUNTRY, I-COUNTRY, O, ...]</td>\n",
       "      <td>11069A</td>\n",
       "      <td>French</td>\n",
       "      <td>train</td>\n",
       "    </tr>\n",
       "    <tr>\n",
       "      <th>1</th>\n",
       "      <td>{\\n   \"Space Asset Transfer Agreement\": {\\n      \"Agreement_A\": {\\n         \"Parties\": [\\n            {\\n               \"Social Security Number\": \"297 199 2575\",\\n               \"ID Card\": \"UL66736AY\"\\n            },\\n            {\\n               \"Social Security Number\": \"6071222840\",\\n               \"ID Card\": \"YK29902EZ\"\\n            }\\n         ],\\n         \"Transfer Details\": {\\n            \"T</td>\n",
       "      <td>{\\n   \"Space Asset Transfer Agreement\": {\\n      \"Agreement_A\": {\\n         \"Parties\": [\\n            {\\n               \"Social Security Number\": \"[SOCIALNUMBER]\",\\n               \"ID Card\": \"[IDCARD]\"\\n            },\\n            {\\n               \"Social Security Number\": \"[SOCIALNUMBER]\",\\n               \"ID Card\": \"[IDCARD]\"\\n            }\\n         ],\\n         \"Transfer Details\": {\\n            \"T</td>\n",
       "      <td>[{'value': '297 199 2575', 'start': 142, 'end': 154, 'label': 'SOCIALNUMBER'}, {'value': 'UL66736AY', 'start': 184, 'end': 193, 'label': 'IDCARD'}, {'value': '6071222840', 'start': 266, 'end': 276, 'label': 'SOCIALNUMBER'}, {'value': 'YK29902EZ', 'start': 306, 'end': 315, 'label': 'IDCARD'}]</td>\n",
       "      <td>[[306, 315, \"IDCARD\"], [266, 276, \"SOCIALNUMBER\"], [184, 193, \"IDCARD\"], [142, 154, \"SOCIALNUMBER\"]]</td>\n",
       "      <td>[{, \", Space, Ass, ##et, Transfer, Agreement, \", :, {, \", Agreement, _, A, \", :, {, \", Partie, ##s, \", :, [, {, \", Social, Security, Number, \", :, \", 297, 199, 257, ##5, \", ,, \", ID, Card, \", :, \", U, ##L, ##66, ##7, ##36, ##A, ##Y, \", }, ,, {, \", Social, Security, Number, \", :, \", 607, ##12, ##22, ##8, ##40, \", ,, \", ID, Card, \", :, \", Y, ##K, ##2, ##99, ##02, ##E, ##Z, \", }, ], ,, \", Transfer, Details, \", :, {, \", T]</td>\n",
       "      <td>[O, O, O, O, O, O, O, O, O, O, O, O, O, O, O, O, O, O, O, O, O, O, O, O, O, O, O, O, O, O, O, O, O, O, O, O, O, O, O, O, O, O, O, B-SOCIALNUMBER, I-SOCIALNUMBER, I-SOCIALNUMBER, I-SOCIALNUMBER, I-SOCIALNUMBER, I-SOCIALNUMBER, I-SOCIALNUMBER, I-SOCIALNUMBER, I-SOCIALNUMBER, O, O, O, O, B-IDCARD, I-IDCARD, I-IDCARD, O, O, O, O, O, O, O, O, O, O, O, O, O, O, O, O, O, O, O, O, O, B-SOCIALNUMBER, I-SOCIALNUMBER, I-SOCIALNUMBER, I-SOCIALNUMBER, I-SOCIALNUMBER, I-SOCIALNUMBER, I-SOCIALNUMBER, O, O, O, O, O, B-IDCARD]</td>\n",
       "      <td>45506A</td>\n",
       "      <td>English</td>\n",
       "      <td>train</td>\n",
       "    </tr>\n",
       "    <tr>\n",
       "      <th>2</th>\n",
       "      <td>{\\n    \"Confidentiality_Agreement\": {\\n        \"Individual_A\": {\\n            \"18h\": \"Treatment di terapia occupazionale\",\\n            \"1:49\": \"Valutazione psicologica iniziale\",\\n            \"12:20\": \"Seduta di terapia cognitivo-comportamentale\",\\n            \"06:08\": \"Raccolta dati osservativi\",\\n            \"9:04\": \"Sessione di terapia individuale\"\\n        },\\n        \"Individual_B\": {\\n            \"18h\": \"Conversazioni genitoriali settimanali\",\\n            \"1</td>\n",
       "      <td>{\\n    \"Confidentiality_Agreement\": {\\n        \"Individual_A\": {\\n            \"[TIME]\": \"Treatment di terapia occupazionale\",\\n            \"[TIME]\": \"Valutazione psicologica iniziale\",\\n            \"[TIME]\": \"Seduta di terapia cognitivo-comportamentale\",\\n            \"[TIME]\": \"Raccolta dati osservativi\",\\n            \"[TIME]\": \"Sessione di terapia individuale\"\\n        },\\n        \"Individual_B\": {\\n            \"[TIME]\": \"Conversazioni genitoriali settimanali\",\\n            \"1</td>\n",
       "      <td>[{'value': '18h', 'start': 76, 'end': 79, 'label': 'TIME'}, {'value': '1:49', 'start': 133, 'end': 137, 'label': 'TIME'}, {'value': '12:20', 'start': 189, 'end': 194, 'label': 'TIME'}, {'value': '06:08', 'start': 257, 'end': 262, 'label': 'TIME'}, {'value': '9:04', 'start': 307, 'end': 311, 'label': 'TIME'}, {'value': '18h', 'start': 398, 'end': 401, 'label': 'TIME'}]</td>\n",
       "      <td>[[398, 401, \"TIME\"], [307, 311, \"TIME\"], [257, 262, \"TIME\"], [189, 194, \"TIME\"], [133, 137, \"TIME\"], [76, 79, \"TIME\"]]</td>\n",
       "      <td>[{, \", Con, ##fi, ##dent, ##ial, ##ity, _, Agreement, \", :, {, \", Individual, _, A, \", :, {, \", 18, ##h, \", :, \", Treatment, di, terapia, occupa, ##zionale, \", ,, \", 1, :, 49, \", :, \", Val, ##utazione, psi, ##colo, ##gica, iniziale, \", ,, \", 12, :, 20, \", :, \", Se, ##duta, di, terapia, co, ##gni, ##tivo, -, comporta, ##mentale, \", ,, \", 06, :, 08, \", :, \", Ra, ##cco, ##lta, dati, oss, ##er, ##vati, ##vi, \", ,, \", 9, :, 04, \", :, \", Session, ##e, di, terapia, individuale, \", }, ,, \", Individual, ...]</td>\n",
       "      <td>[O, O, O, O, O, O, O, O, O, O, O, O, O, O, O, O, O, O, O, O, O, O, O, O, O, O, B-TIME, I-TIME, O, O, O, O, O, O, O, O, O, O, O, O, O, O, B-TIME, I-TIME, O, O, O, O, O, O, O, O, O, O, O, O, O, O, O, B-TIME, I-TIME, O, O, O, O, O, O, O, O, O, O, O, O, O, O, O, O, O, O, O, B-TIME, I-TIME, I-TIME, I-TIME, I-TIME, O, O, O, O, O, O, O, O, O, O, O, B-TIME, I-TIME, I-TIME, I-TIME, ...]</td>\n",
       "      <td>65722A</td>\n",
       "      <td>Italian</td>\n",
       "      <td>train</td>\n",
       "    </tr>\n",
       "    <tr>\n",
       "      <th>3</th>\n",
       "      <td>pecifiche esigenze e aspirazioni.\\n- swzsygjev05: L'approccio centrato sul benessere emotivo proposto da swzsygjev05 ha evidenziato l'importanza di integrare aspetti psicologici nei programmi di mentoring.\\n- mbrvvwglfli41556: Le competenze relazionali di mbrvvwglfli41556 si sono manifestate chiaramente durante la discussione, offrendo spunti pratici per migliorare l'efficacia delle interazioni con i giovani.\\n- alchach: La visi</td>\n",
       "      <td>pecifiche esigenze e aspirazioni.\\n- [USERNAME]: L'approccio centrato sul benessere emotivo proposto da [USERNAME] ha evidenziato l'importanza di integrare aspetti psicologici nei programmi di mentoring.\\n- [USERNAME]: Le competenze relazionali di [USERNAME] si sono manifestate chiaramente durante la discussione, offrendo spunti pratici per migliorare l'efficacia delle interazioni con i giovani.\\n- [USERNAME]: La visi</td>\n",
       "      <td>[{'value': 'swzsygjev05', 'start': 36, 'end': 47, 'label': 'USERNAME'}, {'value': 'swzsygjev05', 'start': 104, 'end': 115, 'label': 'USERNAME'}, {'value': 'mbrvvwglfli41556', 'start': 207, 'end': 223, 'label': 'USERNAME'}, {'value': 'mbrvvwglfli41556', 'start': 254, 'end': 270, 'label': 'USERNAME'}, {'value': 'alchach', 'start': 413, 'end': 420, 'label': 'USERNAME'}]</td>\n",
       "      <td>[[413, 420, \"USERNAME\"], [254, 270, \"USERNAME\"], [207, 223, \"USERNAME\"], [104, 115, \"USERNAME\"], [36, 47, \"USERNAME\"]]</td>\n",
       "      <td>[pe, ##ci, ##fic, ##he, esi, ##gen, ##ze, e, asp, ##ira, ##zioni, ., -, s, ##w, ##zs, ##yg, ##jev, ##0, ##5, :, L, ', app, ##roc, ##cio, centra, ##to, sul, bene, ##sser, ##e, em, ##oti, ##vo, proposto, da, s, ##w, ##zs, ##yg, ##jev, ##0, ##5, ha, evi, ##den, ##zia, ##to, l, ', importanza, di, integrar, ##e, aspetti, psi, ##colo, ##gic, ##i, nei, programmi, di, mentor, ##ing, ., -, m, ##br, ##v, ##v, ##wg, ##lf, ##li, ##41, ##55, ##6, :, Le, compete, ##nze, re, ##lazi, ##onali, di, m, ##br, ##v, ##v, ##wg, ##lf, ##li, ##41, ##55, ##6, si, sono, mani, ##festa, ##te, ...]</td>\n",
       "      <td>[O, O, O, O, O, O, O, O, O, O, O, O, O, O, B-USERNAME, I-USERNAME, I-USERNAME, I-USERNAME, I-USERNAME, I-USERNAME, I-USERNAME, O, O, O, O, O, O, O, O, O, O, O, O, O, O, O, O, O, O, O, O, B-USERNAME, I-USERNAME, I-USERNAME, I-USERNAME, I-USERNAME, I-USERNAME, O, O, O, O, O, O, O, O, O, O, O, O, O, O, O, O, O, O, O, O, O, O, O, O, O, O, O, O, O, O, O, B-USERNAME, I-USERNAME, I-USERNAME, I-USERNAME, I-USERNAME, O, O, O, O, O, O, O, O, O, O, O, O, O, B-USERNAME, I-USERNAME, I-USERNAME, I-USERNAME, ...]</td>\n",
       "      <td>61818C</td>\n",
       "      <td>Italian</td>\n",
       "      <td>train</td>\n",
       "    </tr>\n",
       "    <tr>\n",
       "      <th>4</th>\n",
       "      <td>Liebe Freiwillige der Schulgemeinschaft, \\n\\nim Rahmen unseres Bildungsprogramms für freiwillige Helfer freuen wir uns, Sie herzlich willkommen zu heißen. Sie alle spielen eine wichtige Rolle bei der Förderung des Bildungswesens und tragen dazu bei, eine positive Lernumgebung für unsere Schülerinnen und Schüler zu schaffen.\\n\\nHier sind einige Details für Ihren Einsatz:\\n\\n**Zeit**: 9:53  \\n**Ort**: Nordrhein-Westfalen  \\n**Datum**: Septem</td>\n",
       "      <td>Liebe Freiwillige der Schulgemeinschaft, \\n\\nim Rahmen unseres Bildungsprogramms für freiwillige Helfer freuen wir uns, Sie herzlich willkommen zu heißen. Sie alle spielen eine wichtige Rolle bei der Förderung des Bildungswesens und tragen dazu bei, eine positive Lernumgebung für unsere Schülerinnen und Schüler zu schaffen.\\n\\nHier sind einige Details für Ihren Einsatz:\\n\\n**Zeit**: [TIME]  \\n**Ort**: [STATE]  \\n**Datum**: Septem</td>\n",
       "      <td>[{'value': '9:53', 'start': 380, 'end': 384, 'label': 'TIME'}, {'value': 'Nordrhein-Westfalen', 'start': 396, 'end': 415, 'label': 'STATE'}]</td>\n",
       "      <td>[[396, 415, \"STATE\"], [380, 384, \"TIME\"]]</td>\n",
       "      <td>[Liebe, Frei, ##willige, der, Sc, ##hul, ##gemeinschaft, ,, im, Rahmen, uns, ##eres, Bildung, ##sp, ##rog, ##ramm, ##s, für, frei, ##willige, He, ##lf, ##er, fr, ##eu, ##en, wir, uns, ,, Sie, her, ##zlich, will, ##kommen, zu, he, ##i, ##ßen, ., Sie, alle, spielen, eine, wichtige, Rolle, bei, der, Förderung, des, Bildung, ##s, ##wesen, ##s, und, tragen, dazu, bei, ,, eine, positive, Le, ##rnu, ##m, ##gebung, für, uns, ##ere, Schüler, ##innen, und, Schüler, zu, schaffen, ., Hier, sind, einige, Details, für, Ihre, ##n, Einsatz, :, *, *, Zeit, *, *, :, 9, :, 53, *, *, Ort, *, *, :, Nordrhein, -, ...]</td>\n",
       "      <td>[O, O, O, O, O, O, O, O, O, O, O, O, O, O, O, O, O, O, O, O, O, O, O, O, O, O, O, O, O, O, O, O, O, O, O, O, O, O, O, O, O, O, O, O, O, O, O, O, O, O, O, O, O, O, O, O, O, O, O, O, O, O, O, O, O, O, O, O, O, O, O, O, O, O, O, O, O, O, O, O, O, O, O, O, O, O, O, O, O, O, O, O, O, O, O, O, O, O, O, O, ...]</td>\n",
       "      <td>15506A</td>\n",
       "      <td>German</td>\n",
       "      <td>train</td>\n",
       "    </tr>\n",
       "    <tr>\n",
       "      <th>5</th>\n",
       "      <td>dent&gt;\\n                &lt;Name&gt;\\n                    &lt;FirstName&gt;Tadjidin&lt;/FirstName&gt;\\n                &lt;/Name&gt;\\n                &lt;Details&gt;\\n                    &lt;Username&gt;SB&lt;/Username&gt;\\n                &lt;/Details&gt;\\n            &lt;/Student&gt;\\n            &lt;Student&gt;\\n                &lt;Name&gt;\\n                    &lt;FirstName&gt;Ziyu&lt;/FirstName&gt;\\n                &lt;/Name&gt;\\n                &lt;Details&gt;\\n                    &lt;Username&gt;ziyu.febbo&lt;/Username&gt;\\n                &lt;/Details&gt;\\n            &lt;/Student&gt;\\n            &lt;Student</td>\n",
       "      <td>dent&gt;\\n                &lt;Name&gt;\\n                    &lt;FirstName&gt;[GIVENNAME1]&lt;/FirstName&gt;\\n                &lt;/Name&gt;\\n                &lt;Details&gt;\\n                    &lt;Username&gt;[USERNAME]&lt;/Username&gt;\\n                &lt;/Details&gt;\\n            &lt;/Student&gt;\\n            &lt;Student&gt;\\n                &lt;Name&gt;\\n                    &lt;FirstName&gt;[GIVENNAME1]&lt;/FirstName&gt;\\n                &lt;/Name&gt;\\n                &lt;Details&gt;\\n                    &lt;Username&gt;[USERNAME]&lt;/Username&gt;\\n                &lt;/Details&gt;\\n            &lt;/Student&gt;\\n            &lt;Student</td>\n",
       "      <td>[{'value': 'Tadjidin', 'start': 60, 'end': 68, 'label': 'GIVENNAME1'}, {'value': 'SB', 'start': 161, 'end': 163, 'label': 'USERNAME'}, {'value': 'Ziyu', 'start': 301, 'end': 305, 'label': 'GIVENNAME1'}, {'value': 'ziyu.febbo', 'start': 398, 'end': 408, 'label': 'USERNAME'}]</td>\n",
       "      <td>[[398, 408, \"USERNAME\"], [301, 305, \"GIVENNAME1\"], [161, 163, \"USERNAME\"], [60, 68, \"GIVENNAME1\"]]</td>\n",
       "      <td>[den, ##t, &gt;, &lt;, Name, &gt;, &lt;, First, ##N, ##ame, &gt;, Ta, ##d, ##ji, ##din, &lt;, /, First, ##N, ##ame, &gt;, &lt;, /, Name, &gt;, &lt;, Details, &gt;, &lt;, User, ##name, &gt;, SB, &lt;, /, User, ##name, &gt;, &lt;, /, Details, &gt;, &lt;, /, Student, &gt;, &lt;, Student, &gt;, &lt;, Name, &gt;, &lt;, First, ##N, ##ame, &gt;, Zi, ##yu, &lt;, /, First, ##N, ##ame, &gt;, &lt;, /, Name, &gt;, &lt;, Details, &gt;, &lt;, User, ##name, &gt;, zi, ##yu, ., fe, ##bb, ##o, &lt;, /, User, ##name, &gt;, &lt;, /, Details, &gt;, &lt;, /, Student, &gt;, &lt;, Student]</td>\n",
       "      <td>[O, O, O, O, O, O, O, O, O, O, O, O, O, O, B-GIVENNAME1, I-GIVENNAME1, I-GIVENNAME1, I-GIVENNAME1, O, O, O, O, O, O, O, O, O, O, O, O, O, O, O, O, O, O, B-USERNAME, O, O, O, O, O, O, O, O, O, O, O, O, O, O, O, O, O, O, O, O, O, O, O, O, O, O, O, O, O, B-GIVENNAME1, I-GIVENNAME1, O, O, O, O, O, O, O, O, O, O, O, O, O, O, O, O, O, O, O, O, O, B-USERNAME, I-USERNAME, I-USERNAME, I-USERNAME, I-USERNAME, O, O, O]</td>\n",
       "      <td>74528E</td>\n",
       "      <td>Dutch</td>\n",
       "      <td>train</td>\n",
       "    </tr>\n",
       "    <tr>\n",
       "      <th>6</th>\n",
       "      <td>Proposal de financement - Conflit Résolution en Éducation\\n\\nCher Comité de Financement,\\n\\nNous vous adressons cette proposition de financement pour l'expansion du projet intitulé \"Résolution des Conflits en Éducation\". Nous sommes convaincus que l'investissement dans cette initiative permettra d'améliorer significativement le climat scolaire et d'inculquer des compétences essentielles de résolution de conflits chez les</td>\n",
       "      <td>Proposal de financement - Conflit Résolution en Éducation\\n\\nCher Comité de Financement,\\n\\nNous vous adressons cette proposition de financement pour l'expansion du projet intitulé \"Résolution des Conflits en Éducation\". Nous sommes convaincus que l'investissement dans cette initiative permettra d'améliorer significativement le climat scolaire et d'inculquer des compétences essentielles de résolution de conflits chez les</td>\n",
       "      <td>[]</td>\n",
       "      <td>[]</td>\n",
       "      <td>[Pro, ##posal, de, finance, ##ment, -, Con, ##f, ##lit, R, ##ésolution, en, É, ##duc, ##ation, Cher, Comité, de, Finance, ##ment, ,, Nous, vous, adres, ##sons, cette, proposition, de, finance, ##ment, pour, l, ', expansion, du, projet, intitulé, \", R, ##ésolution, des, Con, ##f, ##lit, ##s, en, É, ##duc, ##ation, \", ., Nous, somme, ##s, con, ##vai, ##ncu, ##s, que, l, ', in, ##vesti, ##ssement, dans, cette, initiative, permet, ##tra, d, ', améliorer, significa, ##tive, ##ment, le, climat, scolaire, et, d, ', in, ##cul, ##quer, des, compétences, essentiel, ##les, de, r, ##ésolution, de, conflit, ##s, chez, les]</td>\n",
       "      <td>[O, O, O, O, O, O, O, O, O, O, O, O, O, O, O, O, O, O, O, O, O, O, O, O, O, O, O, O, O, O, O, O, O, O, O, O, O, O, O, O, O, O, O, O, O, O, O, O, O, O, O, O, O, O, O, O, O, O, O, O, O, O, O, O, O, O, O, O, O, O, O, O, O, O, O, O, O, O, O, O, O, O, O, O, O, O, O, O, O, O, O, O, O, O, O, O]</td>\n",
       "      <td>7107A</td>\n",
       "      <td>French</td>\n",
       "      <td>train</td>\n",
       "    </tr>\n",
       "    <tr>\n",
       "      <th>7</th>\n",
       "      <td>- **Nome:** Nikola\\n     - **Numero Passaporto:** 880247685\\n   - **Individuo G:**\\n     - **Nome:** Pirabakaran\\n     - **Numero Passaporto:** S52N6200F\\n   - **Individuo H:**\\n     - **Nome:** Micheli\\n     - **Numero Passaporto:** TG4532842\\n   - **Individuo I:**\\n     - **Nome:** Chunfang\\n     - **Numero Passaporto:** ND8599163\\n   - **Individuo J:**\\n     - **Nome:** Keyron\\n     - **Secondo Nome:** Vaughan\\n     - **Numero Passaporto:** PASSPORT_J(RL1776673</td>\n",
       "      <td>- **Nome:** [GIVENNAME1]</td>\n",
       "      <td>[{'value': 'Nikola\n",
       "     - **Numero Passaporto:** PASSPORT_F(880247685', 'start': 16, 'end': 73, 'label': 'GIVENNAME1'}, {'value': '880247685\n",
       "   - **Individuo G:**\n",
       "     - **Nome:** GIVENNAME1_G(Pirabakaran', 'start': 53, 'end': 126, 'label': 'PASSPORT'}, {'value': 'Pirabakaran\n",
       "     - **Numero Passaporto:** PASSPORT_G(S52N6200F', 'start': 102, 'end': 164, 'label': 'GIVENNAME1'}, {'value': 'S52N6200F\n",
       "   - **Individuo H:**\n",
       "     - **Nome:** GIVENNAME1_H(Micheli', 'start': 144, 'end': 213, 'label': 'PASSPORT'}, {'value': 'Micheli\n",
       "     - **Numero Passaporto:** PASSPORT_H(TG4532842', 'start': 193, 'end': 251, 'label': 'GIVENNAME1'}, {'value': 'TG4532842\n",
       "   - **Individuo I:**\n",
       "     - **Nome:** GIVENNAME1_I(Chunfang', 'start': 231, 'end': 301, 'label': 'PASSPORT'}, {'value': 'Chunfang\n",
       "     - **Numero Passaporto:** PASSPORT_I(ND8599163', 'start': 280, 'end': 339, 'label': 'GIVENNAME1'}, {'value': 'ND8599163\n",
       "   - **Individuo J:**\n",
       "     - **Nome:** GIVENNAME1_J(Keyron', 'start': 319, 'end': 387, 'label': 'PASSPORT'}, {'value': 'Keyron\n",
       "     - **Secondo Nome:** GIVENNAME2_J(Vaughan', 'start': 368, 'end': 420, 'label': 'GIVENNAME1'}]</td>\n",
       "      <td>[[368, 420, \"GIVENNAME1\"], [319, 387, \"PASSPORT\"], [280, 339, \"GIVENNAME1\"], [231, 301, \"PASSPORT\"], [193, 251, \"GIVENNAME1\"], [144, 213, \"PASSPORT\"], [102, 164, \"GIVENNAME1\"], [53, 126, \"PASSPORT\"], [16, 73, \"GIVENNAME1\"]]</td>\n",
       "      <td>[-, *, *, Nom, ##e, :, *, *, Nikola, -, *, *, Nu, ##mero, Pass, ##apo, ##rto, :, *, *, 880, ##24, ##7, ##6, ##85, -, *, *, In, ##di, ##vidu, ##o, G, :, *, *, -, *, *, Nom, ##e, :, *, *, Pi, ##raba, ##karan, -, *, *, Nu, ##mero, Pass, ##apo, ##rto, :, *, *, S, ##52, ##N, ##6, ##200, ##F, -, *, *, In, ##di, ##vidu, ##o, H, :, *, *, -, *, *, Nom, ##e, :, *, *, Michel, ##i, -, *, *, Nu, ##mero, Pass, ##apo, ##rto, :, *, *, T, ##G, ##45, ##32, ...]</td>\n",
       "      <td>[O, O, O, O, O, O, O, O, B-GIVENNAME1, I-GIVENNAME1, I-GIVENNAME1, I-GIVENNAME1, I-GIVENNAME1, I-GIVENNAME1, I-GIVENNAME1, I-GIVENNAME1, I-GIVENNAME1, I-GIVENNAME1, I-GIVENNAME1, I-GIVENNAME1, I-GIVENNAME1, I-GIVENNAME1, B-PASSPORT, I-PASSPORT, I-PASSPORT, I-PASSPORT, I-PASSPORT, I-PASSPORT, I-PASSPORT, I-PASSPORT, I-PASSPORT, I-PASSPORT, I-PASSPORT, I-PASSPORT, I-PASSPORT, I-PASSPORT, I-PASSPORT, I-PASSPORT, I-PASSPORT, I-PASSPORT, I-PASSPORT, I-PASSPORT, I-PASSPORT, I-PASSPORT, I-PASSPORT, I-PASSPORT, I-PASSPORT, B-GIVENNAME1, I-GIVENNAME1, I-GIVENNAME1, I-GIVENNAME1, I-GIVENNAME1, I-GIVENNAME1, I-GIVENNAME1, I-GIVENNAME1, I-GIVENNAME1, I-GIVENNAME1, I-GIVENNAME1, I-GIVENNAME1, I-GIVENNAME1, I-GIVENNAME1, I-GIVENNAME1, I-GIVENNAME1, I-GIVENNAME1, I-GIVENNAME1, I-GIVENNAME1, I-GIVENNAME1, I-GIVENNAME1, B-PASSPORT, I-PASSPORT, I-PASSPORT, I-PASSPORT, I-PASSPORT, I-PASSPORT, I-PASSPORT, I-PASSPORT, I-PASSPORT, I-PASSPORT, I-PASSPORT, I-PASSPORT, I-PASSPORT, I-PASSPORT, I-PASSPORT, I-PASSPORT, I-PASSPORT, I-PASSPORT, I-PASSPORT, I-PASSPORT, I-PASSPORT, I-PASSPORT, I-GIVENNAME1, I-GIVENNAME1, I-GIVENNAME1, I-GIVENNAME1, I-GIVENNAME1, I-GIVENNAME1, I-GIVENNAME1, I-GIVENNAME1, I-GIVENNAME1, I-GIVENNAME1, ...]</td>\n",
       "      <td>55672C</td>\n",
       "      <td>Italian</td>\n",
       "      <td>train</td>\n",
       "    </tr>\n",
       "    <tr>\n",
       "      <th>8</th>\n",
       "      <td>\"Parenteel Toestemmingsformulier\\nOndergetekende, Jamian Uwais Devecioglu Zielinska, geboren op juni/97, geregistreerd onder 154005650, verklaart hierbij als ouder van de minderjarige behandelpatiënt. \\n\\nOndergetekende, Zineta Zoetmulder, geboren op 1955-04-01T00:00:00, geregistreerd onder 383939245, verleent hierbij toestemming voor behandeling van haar/zijn minderjarige kind. \\n\\nDe ouders/voogden Mevrouw Eva-Katharina Balit Fidjeu Varo, Bar Van Avdus Cavdar, De heer Migmar Aras Mezit, Gravin Letteria P</td>\n",
       "      <td>\"Parenteel Toestemmingsformulier\\nOndergetekende, [TITLE], geboren op [BOD], geregistreerd onder [SOCIALNUMBER], verklaart hierbij als ouder van de minderjarige behandelpatiënt. \\n\\nOndergetekende, [TITLE], geboren op [BOD], geregistreerd onder [SOCIALNUMBER], verleent hierbij toestemming voor behandeling van haar/zijn minderjarige kind. \\n\\nDe ouders/voogden [TITLE], [TITLE], [TITLE], Gravin Letteria P</td>\n",
       "      <td>[{'value': 'Jamian Uwais Devecioglu Zielinska', 'start': 49, 'end': 82, 'label': 'TITLE'}, {'value': 'juni/97', 'start': 95, 'end': 102, 'label': 'BOD'}, {'value': '154005650', 'start': 124, 'end': 133, 'label': 'SOCIALNUMBER'}, {'value': 'Zineta Zoetmulder', 'start': 218, 'end': 235, 'label': 'TITLE'}, {'value': '1955-04-01T00:00:00', 'start': 248, 'end': 267, 'label': 'BOD'}, {'value': '383939245', 'start': 289, 'end': 298, 'label': 'SOCIALNUMBER'}, {'value': 'Mevrouw Eva-Katharina Balit Fidjeu Varo', 'start': 399, 'end': 438, 'label': 'TITLE'}, {'value': 'Bar Van Avdus Cavdar', 'start': 440, 'end': 460, 'label': 'TITLE'}, {'value': 'De heer Migmar Aras Mezit', 'start': 462, 'end': 487, 'label': 'TITLE'}]</td>\n",
       "      <td>[[462, 487, \"TITLE\"], [440, 460, \"TITLE\"], [399, 438, \"TITLE\"], [289, 298, \"SOCIALNUMBER\"], [248, 267, \"BOD\"], [218, 235, \"TITLE\"], [124, 133, \"SOCIALNUMBER\"], [95, 102, \"BOD\"], [49, 82, \"TITLE\"]]</td>\n",
       "      <td>[\", Par, ##ente, ##el, To, ##este, ##mming, ##s, ##form, ##ulier, Onder, ##get, ##eken, ##de, ,, Jam, ##ian, U, ##wai, ##s, Dev, ##eci, ##og, ##lu, Ziel, ##inska, ,, geboren, op, juni, /, 97, ,, ger, ##egi, ##stre, ##erd, onder, 1540, ##0, ##5, ##65, ##0, ,, verk, ##laar, ##t, hierbij, als, oude, ##r, van, de, minder, ##jarige, be, ##handel, ##pati, ##ën, ##t, ., Onder, ##get, ##eken, ##de, ,, Zi, ##neta, Zoe, ##t, ##mul, ##der, ,, geboren, op, 1955, -, 04, -, 01, ##T, ##00, :, 00, :, 00, ,, ger, ##egi, ##stre, ##erd, onder, 383, ##9, ##3, ##9, ##24, ##5, ,, ver, ...]</td>\n",
       "      <td>[O, O, O, O, O, O, O, O, O, O, O, O, O, O, O, B-TITLE, I-TITLE, I-TITLE, I-TITLE, I-TITLE, I-TITLE, I-TITLE, I-TITLE, I-TITLE, I-TITLE, I-TITLE, I-TITLE, I-TITLE, O, O, O, O, B-BOD, I-BOD, I-BOD, O, O, O, O, O, O, O, O, B-SOCIALNUMBER, I-SOCIALNUMBER, I-SOCIALNUMBER, O, O, O, O, O, O, O, O, O, O, O, O, O, O, O, O, O, O, O, O, O, O, O, O, O, O, B-TITLE, I-TITLE, I-TITLE, I-TITLE, I-TITLE, I-TITLE, O, O, O, O, O, O, O, O, B-BOD, I-BOD, I-BOD, I-BOD, I-BOD, I-BOD, O, O, O, O, O, O, O, O, ...]</td>\n",
       "      <td>80042A</td>\n",
       "      <td>Dutch</td>\n",
       "      <td>train</td>\n",
       "    </tr>\n",
       "    <tr>\n",
       "      <th>9</th>\n",
       "      <td>Madre, con indirizzo email anaé.couzens@outlook.com, in possesso di 7674928854 e T2985375, contattabile al numero 017.34.158.9260, residente in 318 su Chüsseberg a Seedorf (Bern), nello stato di BE, CAP 3267, con un indirizzo secondario Pod 523. Il suo nome completo è Anaé Evaline.\\n\\nConte, con indirizzo email dzebricheux@outlook.co</td>\n",
       "      <td>Madre, con indirizzo email [EMAIL], in possesso di [DRIVERLICENSE] e [PASSPORT], contattabile al numero [TEL], residente in [BUILDING] su [STREET] a [CITY]), nello stato di [STATE], CAP [POSTCODE], con un indirizzo secondario [SECADDRESS]. Il suo nome completo è [GIVENNAME1].\\n\\n[TITLE], con indirizzo email dzebricheux@outlook.co</td>\n",
       "      <td>[{'value': 'anaé.couzens@outlook.com', 'start': 27, 'end': 51, 'label': 'EMAIL'}, {'value': '7674928854', 'start': 68, 'end': 78, 'label': 'DRIVERLICENSE'}, {'value': 'T2985375', 'start': 81, 'end': 89, 'label': 'PASSPORT'}, {'value': '017.34.158.9260', 'start': 114, 'end': 129, 'label': 'TEL'}, {'value': '318', 'start': 144, 'end': 147, 'label': 'BUILDING'}, {'value': 'Chüsseberg', 'start': 151, 'end': 161, 'label': 'STREET'}, {'value': 'Seedorf (Bern', 'start': 164, 'end': 177, 'label': 'CITY'}, {'value': 'BE', 'start': 195, 'end': 197, 'label': 'STATE'}, {'value': '3267', 'start': 203, 'end': 207, 'label': 'POSTCODE'}, {'value': 'Pod 523', 'start': 237, 'end': 244, 'label': 'SECADDRESS'}, {'value': 'Anaé Evaline', 'start': 269, 'end': 281, 'label': 'GIVENNAME1'}, {'value': 'Conte', 'start': 284, 'end': 289, 'label': 'TITLE'}]</td>\n",
       "      <td>[[284, 289, \"TITLE\"], [269, 281, \"GIVENNAME1\"], [237, 244, \"SECADDRESS\"], [203, 207, \"POSTCODE\"], [195, 197, \"STATE\"], [164, 177, \"CITY\"], [151, 161, \"STREET\"], [144, 147, \"BUILDING\"], [114, 129, \"TEL\"], [81, 89, \"PASSPORT\"], [68, 78, \"DRIVERLICENSE\"], [27, 51, \"EMAIL\"]]</td>\n",
       "      <td>[Madre, ,, con, ind, ##iri, ##zzo, email, ana, ##é, ., co, ##uze, ##ns, @, out, ##lo, ##ok, ., com, ,, in, possesso, di, 767, ##49, ##28, ##85, ##4, e, T2, ##9, ##85, ##3, ##7, ##5, ,, conta, ##tta, ##bile, al, numero, 017, ., 34, ., 158, ., 926, ##0, ,, residente, in, 318, su, Ch, ##üsse, ##berg, a, Seed, ##orf, (, Bern, ), ,, nello, stato, di, BE, ,, CA, ##P, 326, ##7, ,, con, un, ind, ##iri, ##zzo, seconda, ##rio, Pod, 523, ., Il, suo, nome, completo, è, Ana, ##é, Eva, ##line, ., Conte, ,, con, ind, ##iri, ##zzo, ...]</td>\n",
       "      <td>[O, O, O, O, O, O, O, B-EMAIL, I-EMAIL, I-EMAIL, I-EMAIL, I-EMAIL, I-EMAIL, I-EMAIL, I-EMAIL, I-EMAIL, I-EMAIL, I-EMAIL, I-EMAIL, O, O, O, O, B-DRIVERLICENSE, I-DRIVERLICENSE, I-DRIVERLICENSE, I-DRIVERLICENSE, I-DRIVERLICENSE, O, B-PASSPORT, I-PASSPORT, I-PASSPORT, I-PASSPORT, I-PASSPORT, I-PASSPORT, O, O, O, O, O, O, B-TEL, I-TEL, I-TEL, I-TEL, I-TEL, I-TEL, I-TEL, I-TEL, O, O, O, B-BUILDING, O, B-STREET, I-STREET, I-STREET, O, B-CITY, I-CITY, I-CITY, I-CITY, O, O, O, O, O, B-STATE, O, O, O, B-POSTCODE, I-POSTCODE, O, O, O, O, O, O, O, O, B-SECADDRESS, I-SECADDRESS, O, O, O, O, O, O, B-GIVENNAME1, I-GIVENNAME1, I-GIVENNAME1, I-GIVENNAME1, O, B-TITLE, I-TITLE, I-TITLE, O, O, O, ...]</td>\n",
       "      <td>64339A</td>\n",
       "      <td>Italian</td>\n",
       "      <td>train</td>\n",
       "    </tr>\n",
       "  </tbody>\n",
       "</table>"
      ],
      "text/plain": [
       "<IPython.core.display.HTML object>"
      ]
     },
     "metadata": {},
     "output_type": "display_data"
    }
   ],
   "source": [
    "show_random_elements(datasets[\"train\"])"
   ]
  },
  {
   "cell_type": "code",
   "execution_count": 40,
   "metadata": {
    "id": "eXNLu_-nIrJI"
   },
   "outputs": [],
   "source": [
    "from transformers import AutoTokenizer\n",
    "    \n",
    "tokenizer = AutoTokenizer.from_pretrained(model_checkpoint)"
   ]
  },
  {
   "cell_type": "code",
   "execution_count": 41,
   "metadata": {},
   "outputs": [],
   "source": [
    "import transformers\n",
    "assert isinstance(tokenizer, transformers.PreTrainedTokenizerFast)"
   ]
  },
  {
   "cell_type": "code",
   "execution_count": 42,
   "metadata": {
    "id": "a5hBlsrHIrJL",
    "outputId": "acdaa98a-a8cd-4a20-89b8-cc26437bbe90",
    "scrolled": true
   },
   "outputs": [
    {
     "data": {
      "text/plain": [
       "{'input_ids': [101, 31178, 117, 10531, 10124, 10464, 49219, 106, 102], 'attention_mask': [1, 1, 1, 1, 1, 1, 1, 1, 1]}"
      ]
     },
     "execution_count": 42,
     "metadata": {},
     "output_type": "execute_result"
    }
   ],
   "source": [
    "tokenizer(\"Hello, this is one sentence!\")"
   ]
  },
  {
   "cell_type": "code",
   "execution_count": 43,
   "metadata": {},
   "outputs": [
    {
     "data": {
      "text/plain": [
       "{'input_ids': [101, 31178, 117, 10531, 10124, 10464, 49219, 24137, 10708, 21296, 119, 102], 'attention_mask': [1, 1, 1, 1, 1, 1, 1, 1, 1, 1, 1, 1]}"
      ]
     },
     "execution_count": 43,
     "metadata": {},
     "output_type": "execute_result"
    }
   ],
   "source": [
    "tokenizer([\"Hello\", \",\", \"this\", \"is\", \"one\", \"sentence\", \"split\", \"into\", \"words\", \".\"], is_split_into_words=True)"
   ]
  },
  {
   "cell_type": "code",
   "execution_count": 44,
   "metadata": {},
   "outputs": [],
   "source": [
    "label_all_tokens = True"
   ]
  },
  {
   "cell_type": "code",
   "execution_count": 58,
   "metadata": {
    "id": "vc0BSBLIIrJQ"
   },
   "outputs": [],
   "source": [
    "def filter_inputs(example, idx):\n",
    "    if idx >= 500:\n",
    "        return False\n",
    "    \n",
    "    if example[\"language\"] != \"English\":\n",
    "        return False\n",
    "    \n",
    "    tokenized = tokenizer(example[\"source_text\"], padding=True, truncation=True)\n",
    "    tokenized_words = tokenizer.convert_ids_to_tokens(tokenized[\"input_ids\"])\n",
    "    tokenized_words = tokenized_words[1:-1] # remove CLS and SEP\n",
    "\n",
    "    # global largest_token_size\n",
    "    # tokenized_len = len(tokenized_words)\n",
    "    # if tokenized_len > largest_token_size:\n",
    "    #     largest_token_size = tokenized_len\n",
    "    if tokenized_words != example[\"mbert_text_tokens\"]:\n",
    "        print(f\"EXCLUDING ID={example['id']} because tokenized version does not match example mbert tokens.\")\n",
    "        return False\n",
    "\n",
    "    return True\n",
    "\n",
    "def tokenize_and_align_labels(examples):\n",
    "    tokenized_inputs = tokenizer(examples[\"source_text\"], padding=True, truncation=True)\n",
    "\n",
    "    # labels = []\n",
    "    # for batch_index, label in enumerate(examples[\"mbert_text_tokens\"]):\n",
    "    #     word_ids = tokenized_inputs.word_ids(batch_index=batch_index)\n",
    "\n",
    "        # label_ids = []\n",
    "    # ctr = 0\n",
    "\n",
    "    all_labels = []\n",
    "    \n",
    "    for idx, labels in enumerate(examples['mbert_bio_labels']):\n",
    "        word_ids = tokenized_inputs.word_ids(batch_index=idx)\n",
    "        label_ids = []\n",
    "        ctr = 0\n",
    "        for word_id in word_ids:\n",
    "            if word_id is None:\n",
    "                label_ids.append(-100)\n",
    "            else:\n",
    "                expected_mbert_label = labels[ctr]\n",
    "                label_ids.append(label2id[expected_mbert_label])\n",
    "                ctr += 1\n",
    "                \n",
    "        all_labels.append(label_ids)\n",
    "        # example[\"labels\"] = labels\n",
    "    # # Map each input_id (101, 23533, 2121, etc) into the expected mbert_bio_label ID (using label2id or what have you)\n",
    "    # for input_id in tokenized_inputs[\"input_ids\"]:\n",
    "    #     if input_id == 101 or input_id == 102:\n",
    "    #         # 101 = CLS, 102 = SEP, label id should be -100\n",
    "    #         label_ids.append(-100)\n",
    "    #     else:\n",
    "    #         expected_mbert_label = examples[\"mbert_bio_labels\"][ctr]\n",
    "    #         label_ids.append(label2id[expected_mbert_label])\n",
    "    #         # print(label2id[expected_mbert_label])\n",
    "    #         # print(expected_mbert_label)\n",
    "    #         ctr += 1\n",
    "\n",
    "    tokenized_inputs[\"labels\"] = all_labels\n",
    "    \n",
    "    return tokenized_inputs\n",
    "\n",
    "    # tokenized_words = tokenizer.convert_ids_to_tokens(tokenized_inputs[\"input_ids\"])\n",
    "    # tokenized_words = tokenized_words[1:-1] # remove CLS and SEP\n",
    "\n",
    "    # if tokenized_words != examples[\"mbert_text_tokens\"]:\n",
    "    #     # raise ValueError(f\"Example ID={examples['id']} has mismatched tokenizer words compared to example words.\\nlen(Tokenized)={len(tokenized_words)}, len(Examples)={len(examples['mbert_text_tokens'])}\\n\\nTokenized={tokenized_words}\\n\\nExample={examples['mbert_text_tokens']}\")\n",
    "    #     return None\n",
    "\n",
    "\n",
    "\n",
    "# def tokenize_and_align_labels(examples):\n",
    "#     tokenized_inputs = tokenizer(examples[\"tokens\"], truncation=True, is_split_into_words=True)\n",
    "\n",
    "#     labels = []\n",
    "#     for i, label in enumerate(examples[f\"{task}_tags\"]):\n",
    "#         word_ids = tokenized_inputs.word_ids(batch_index=i)\n",
    "#         previous_word_idx = None\n",
    "#         label_ids = []\n",
    "#         for word_idx in word_ids:\n",
    "#             # Special tokens have a word id that is None. We set the label to -100 so they are automatically\n",
    "#             # ignored in the loss function.\n",
    "#             if word_idx is None:\n",
    "#                 label_ids.append(-100)\n",
    "#             # We set the label for the first token of each word.\n",
    "#             elif word_idx != previous_word_idx:\n",
    "#                 label_ids.append(label[word_idx])\n",
    "#             # For the other tokens in a word, we set the label to either the current label or -100, depending on\n",
    "#             # the label_all_tokens flag.\n",
    "#             else:\n",
    "#                 label_ids.append(label[word_idx] if label_all_tokens else -100)\n",
    "#             previous_word_idx = word_idx\n",
    "\n",
    "#         labels.append(label_ids)\n",
    "\n",
    "#     tokenized_inputs[\"labels\"] = labels\n",
    "#     return tokenized_inputs"
   ]
  },
  {
   "cell_type": "code",
   "execution_count": 59,
   "metadata": {
    "id": "-b70jh26IrJS",
    "outputId": "acd3a42d-985b-44ee-9daa-af5d944ce1d9",
    "scrolled": true
   },
   "outputs": [
    {
     "data": {
      "application/vnd.jupyter.widget-view+json": {
       "model_id": "b88547feb7414a56ba7f9a635728239a",
       "version_major": 2,
       "version_minor": 0
      },
      "text/plain": [
       "Filter:   0%|          | 0/177677 [00:00<?, ? examples/s]"
      ]
     },
     "metadata": {},
     "output_type": "display_data"
    },
    {
     "data": {
      "application/vnd.jupyter.widget-view+json": {
       "model_id": "5caf926fbe58438dafaa9808803d45fd",
       "version_major": 2,
       "version_minor": 0
      },
      "text/plain": [
       "Filter:   0%|          | 0/47728 [00:00<?, ? examples/s]"
      ]
     },
     "metadata": {},
     "output_type": "display_data"
    },
    {
     "data": {
      "application/vnd.jupyter.widget-view+json": {
       "model_id": "dd15483aaedb4dc1a685dba927540a4f",
       "version_major": 2,
       "version_minor": 0
      },
      "text/plain": [
       "Map:   0%|          | 0/500 [00:00<?, ? examples/s]"
      ]
     },
     "metadata": {},
     "output_type": "display_data"
    },
    {
     "data": {
      "application/vnd.jupyter.widget-view+json": {
       "model_id": "e5523f1c7f4644c0a5d552666cf71685",
       "version_major": 2,
       "version_minor": 0
      },
      "text/plain": [
       "Map:   0%|          | 0/500 [00:00<?, ? examples/s]"
      ]
     },
     "metadata": {},
     "output_type": "display_data"
    }
   ],
   "source": [
    "#datasets.filter(filter_inputs, with_indices=True, batched=True)\n",
    "# datasets.filter(filter_inputs, batched=True)\n",
    "tokenized_datasets = datasets.filter(filter_inputs, with_indices=True).map(tokenize_and_align_labels, batched=True)\n",
    "# tokenize_and_align_labels(datasets['train'][:10])"
   ]
  },
  {
   "cell_type": "code",
   "execution_count": 60,
   "metadata": {},
   "outputs": [],
   "source": [
    "# tokenized_datasets[\"train\"][0]\n"
   ]
  },
  {
   "cell_type": "code",
   "execution_count": 61,
   "metadata": {
    "id": "TlqNaB8jIrJW",
    "outputId": "84916cf3-6e6c-47f3-d081-032ec30a4132"
   },
   "outputs": [
    {
     "name": "stderr",
     "output_type": "stream",
     "text": [
      "Some weights of DistilBertForTokenClassification were not initialized from the model checkpoint at distilbert/distilbert-base-multilingual-cased and are newly initialized: ['classifier.bias', 'classifier.weight']\n",
      "You should probably TRAIN this model on a down-stream task to be able to use it for predictions and inference.\n"
     ]
    },
    {
     "name": "stdout",
     "output_type": "stream",
     "text": [
      "['O', 'B-BOD', 'I-BOD', 'B-BUILDING', 'I-BUILDING', 'B-CARDISSUER', 'I-CARDISSUER', 'B-CITY', 'I-CITY', 'B-COUNTRY', 'I-COUNTRY', 'B-DATE', 'I-DATE', 'B-DRIVERLICENSE', 'I-DRIVERLICENSE', 'B-EMAIL', 'I-EMAIL', 'B-GEOCOORD', 'I-GEOCOORD', 'B-GIVENNAME1', 'I-GIVENNAME1', 'B-GIVENNAME2', 'I-GIVENNAME2', 'B-IDCARD', 'I-IDCARD', 'B-IP', 'I-IP', 'B-LASTNAME1', 'I-LASTNAME1', 'B-LASTNAME2', 'I-LASTNAME2', 'B-LASTNAME3', 'I-LASTNAME3', 'B-PASS', 'I-PASS', 'B-PASSPORT', 'I-PASSPORT', 'B-POSTCODE', 'I-POSTCODE', 'B-SECADDRESS', 'I-SECADDRESS', 'B-SEX', 'I-SEX', 'B-SOCIALNUMBER', 'I-SOCIALNUMBER', 'B-STATE', 'I-STATE', 'B-STREET', 'I-STREET', 'B-TEL', 'I-TEL', 'B-TIME', 'I-TIME', 'B-TITLE', 'I-TITLE', 'B-USERNAME', 'I-USERNAME']\n"
     ]
    },
    {
     "data": {
      "text/plain": [
       "DistilBertForTokenClassification(\n",
       "  (distilbert): DistilBertModel(\n",
       "    (embeddings): Embeddings(\n",
       "      (word_embeddings): Embedding(119547, 768, padding_idx=0)\n",
       "      (position_embeddings): Embedding(512, 768)\n",
       "      (LayerNorm): LayerNorm((768,), eps=1e-12, elementwise_affine=True)\n",
       "      (dropout): Dropout(p=0.1, inplace=False)\n",
       "    )\n",
       "    (transformer): Transformer(\n",
       "      (layer): ModuleList(\n",
       "        (0-5): 6 x TransformerBlock(\n",
       "          (attention): MultiHeadSelfAttention(\n",
       "            (dropout): Dropout(p=0.1, inplace=False)\n",
       "            (q_lin): Linear(in_features=768, out_features=768, bias=True)\n",
       "            (k_lin): Linear(in_features=768, out_features=768, bias=True)\n",
       "            (v_lin): Linear(in_features=768, out_features=768, bias=True)\n",
       "            (out_lin): Linear(in_features=768, out_features=768, bias=True)\n",
       "          )\n",
       "          (sa_layer_norm): LayerNorm((768,), eps=1e-12, elementwise_affine=True)\n",
       "          (ffn): FFN(\n",
       "            (dropout): Dropout(p=0.1, inplace=False)\n",
       "            (lin1): Linear(in_features=768, out_features=3072, bias=True)\n",
       "            (lin2): Linear(in_features=3072, out_features=768, bias=True)\n",
       "            (activation): GELUActivation()\n",
       "          )\n",
       "          (output_layer_norm): LayerNorm((768,), eps=1e-12, elementwise_affine=True)\n",
       "        )\n",
       "      )\n",
       "    )\n",
       "  )\n",
       "  (dropout): Dropout(p=0.1, inplace=False)\n",
       "  (classifier): Linear(in_features=768, out_features=57, bias=True)\n",
       ")"
      ]
     },
     "execution_count": 61,
     "metadata": {},
     "output_type": "execute_result"
    }
   ],
   "source": [
    "from transformers import AutoModelForTokenClassification, TrainingArguments, Trainer\n",
    "\n",
    "model = AutoModelForTokenClassification.from_pretrained(model_checkpoint, num_labels=len(label_list))\n",
    "print(label_list)\n",
    "model"
   ]
  },
  {
   "cell_type": "code",
   "execution_count": 62,
   "metadata": {
    "id": "Bliy8zgjIrJY"
   },
   "outputs": [],
   "source": [
    "model_name = model_checkpoint.split(\"/\")[-1]\n",
    "args = TrainingArguments(\n",
    "    f\"{model_name}-finetuned-{task}\",\n",
    "    evaluation_strategy = \"epoch\",\n",
    "    learning_rate=2e-6,\n",
    "    per_device_train_batch_size=batch_size,\n",
    "    per_device_eval_batch_size=batch_size,\n",
    "    num_train_epochs=5,\n",
    "    # num_train_epochs=1,\n",
    "    weight_decay=0.01,\n",
    "    push_to_hub=False,\n",
    ")"
   ]
  },
  {
   "cell_type": "code",
   "execution_count": 63,
   "metadata": {},
   "outputs": [],
   "source": [
    "from transformers import DataCollatorForTokenClassification\n",
    "\n",
    "data_collator = DataCollatorForTokenClassification(tokenizer)"
   ]
  },
  {
   "cell_type": "code",
   "execution_count": 64,
   "metadata": {},
   "outputs": [],
   "source": [
    "import evaluate\n",
    "metric = evaluate.load(\"seqeval\")"
   ]
  },
  {
   "cell_type": "code",
   "execution_count": 65,
   "metadata": {
    "scrolled": true
   },
   "outputs": [],
   "source": [
    "# labels = [label_list[i] for i in example[f\"{task}_tags\"]]\n",
    "# metric.compute(predictions=[labels], references=[labels])"
   ]
  },
  {
   "cell_type": "code",
   "execution_count": 66,
   "metadata": {
    "id": "UmvbnJ9JIrJd"
   },
   "outputs": [],
   "source": [
    "import numpy as np\n",
    "\n",
    "def compute_metrics(p):\n",
    "    predictions, labels = p\n",
    "    # print(f\"predictions.shape: {predictions.shape}\")\n",
    "    # print(f\"labels.shape: {labels.shape}\")\n",
    "    \n",
    "    predictions = np.argmax(predictions, axis=2)\n",
    "    \n",
    "    # print(f\"predictions.shape after argmax: {predictions.shape}\")\n",
    "    # print(f\"{predictions}\")\n",
    "    \n",
    "    # Remove ignored index (special tokens)\n",
    "    true_predictions = [\n",
    "        [label_list[p] for (p, l) in zip(prediction, label) if l != -100]\n",
    "        for prediction, label in zip(predictions, labels)\n",
    "    ]\n",
    "    true_labels = [\n",
    "        [label_list[l] for (p, l) in zip(prediction, label) if l != -100]\n",
    "        for prediction, label in zip(predictions, labels)\n",
    "    ]\n",
    "\n",
    "    # print(f\"true_predictions:\\n{true_predictions}\")\n",
    "    # print(f\"true_labels:\\n{true_labels}\")\n",
    "    # for idx, itm in enumerate(true_labels):\n",
    "    #     labels_set = set(true_labels[idx])\n",
    "    #     preds_set = set(true_predictions[idx])\n",
    "    #     print(f\"diff @ {idx}:\\n{labels_set - preds_set}\")\n",
    " \n",
    "\n",
    "    results = metric.compute(predictions=true_predictions, references=true_labels)\n",
    "    return {\n",
    "        \"precision\": results[\"overall_precision\"],\n",
    "        \"recall\": results[\"overall_recall\"],\n",
    "        \"f1\": results[\"overall_f1\"],\n",
    "        \"accuracy\": results[\"overall_accuracy\"],\n",
    "    }"
   ]
  },
  {
   "cell_type": "code",
   "execution_count": 67,
   "metadata": {
    "id": "imY1oC3SIrJf"
   },
   "outputs": [],
   "source": [
    "trainer = Trainer(\n",
    "    model,\n",
    "    args,\n",
    "    train_dataset=tokenized_datasets[\"train\"],\n",
    "    eval_dataset=tokenized_datasets[\"validation\"],\n",
    "    data_collator=data_collator,\n",
    "    tokenizer=tokenizer,\n",
    "    compute_metrics=compute_metrics\n",
    ")"
   ]
  },
  {
   "cell_type": "code",
   "execution_count": 68,
   "metadata": {},
   "outputs": [
    {
     "data": {
      "text/html": [
       "\n",
       "    <div>\n",
       "      \n",
       "      <progress value='80' max='80' style='width:300px; height:20px; vertical-align: middle;'></progress>\n",
       "      [80/80 00:30, Epoch 5/5]\n",
       "    </div>\n",
       "    <table border=\"1\" class=\"dataframe\">\n",
       "  <thead>\n",
       " <tr style=\"text-align: left;\">\n",
       "      <th>Epoch</th>\n",
       "      <th>Training Loss</th>\n",
       "      <th>Validation Loss</th>\n",
       "      <th>Precision</th>\n",
       "      <th>Recall</th>\n",
       "      <th>F1</th>\n",
       "      <th>Accuracy</th>\n",
       "    </tr>\n",
       "  </thead>\n",
       "  <tbody>\n",
       "    <tr>\n",
       "      <td>1</td>\n",
       "      <td>No log</td>\n",
       "      <td>3.725668</td>\n",
       "      <td>0.000096</td>\n",
       "      <td>0.001468</td>\n",
       "      <td>0.000180</td>\n",
       "      <td>0.222301</td>\n",
       "    </tr>\n",
       "    <tr>\n",
       "      <td>2</td>\n",
       "      <td>No log</td>\n",
       "      <td>3.451936</td>\n",
       "      <td>0.000000</td>\n",
       "      <td>0.000000</td>\n",
       "      <td>0.000000</td>\n",
       "      <td>0.635950</td>\n",
       "    </tr>\n",
       "    <tr>\n",
       "      <td>3</td>\n",
       "      <td>No log</td>\n",
       "      <td>3.244551</td>\n",
       "      <td>0.000000</td>\n",
       "      <td>0.000000</td>\n",
       "      <td>0.000000</td>\n",
       "      <td>0.729189</td>\n",
       "    </tr>\n",
       "    <tr>\n",
       "      <td>4</td>\n",
       "      <td>No log</td>\n",
       "      <td>3.112367</td>\n",
       "      <td>0.000000</td>\n",
       "      <td>0.000000</td>\n",
       "      <td>0.000000</td>\n",
       "      <td>0.749023</td>\n",
       "    </tr>\n",
       "    <tr>\n",
       "      <td>5</td>\n",
       "      <td>No log</td>\n",
       "      <td>3.065049</td>\n",
       "      <td>0.000000</td>\n",
       "      <td>0.000000</td>\n",
       "      <td>0.000000</td>\n",
       "      <td>0.752932</td>\n",
       "    </tr>\n",
       "  </tbody>\n",
       "</table><p>"
      ],
      "text/plain": [
       "<IPython.core.display.HTML object>"
      ]
     },
     "metadata": {},
     "output_type": "display_data"
    },
    {
     "data": {
      "text/plain": [
       "TrainOutput(global_step=80, training_loss=3.421538543701172, metrics={'train_runtime': 30.9025, 'train_samples_per_second': 80.899, 'train_steps_per_second': 2.589, 'total_flos': 182636458290000.0, 'train_loss': 3.421538543701172, 'epoch': 5.0})"
      ]
     },
     "execution_count": 68,
     "metadata": {},
     "output_type": "execute_result"
    }
   ],
   "source": [
    "import warnings\n",
    "warnings.filterwarnings('ignore')\n",
    "warnings.simplefilter('ignore')\n",
    "\n",
    "# import os\n",
    "# os.environ['CUDA_VISIBLE_DEVICES'] = \"0\"\n",
    "\n",
    "trainer.train()"
   ]
  },
  {
   "cell_type": "code",
   "execution_count": 69,
   "metadata": {
    "id": "UOUcBkX8IrJi",
    "outputId": "de5b9dd6-9dc0-4702-cb43-55e9829fde25",
    "scrolled": true
   },
   "outputs": [
    {
     "data": {
      "text/html": [],
      "text/plain": [
       "<IPython.core.display.HTML object>"
      ]
     },
     "metadata": {},
     "output_type": "display_data"
    },
    {
     "data": {
      "text/plain": [
       "{'eval_loss': 3.065049409866333,\n",
       " 'eval_precision': 0.0,\n",
       " 'eval_recall': 0.0,\n",
       " 'eval_f1': 0.0,\n",
       " 'eval_accuracy': 0.7529317526433835,\n",
       " 'eval_runtime': 2.5977,\n",
       " 'eval_samples_per_second': 192.477,\n",
       " 'eval_steps_per_second': 6.159,\n",
       " 'epoch': 5.0}"
      ]
     },
     "execution_count": 69,
     "metadata": {},
     "output_type": "execute_result"
    }
   ],
   "source": [
    "trainer.evaluate()"
   ]
  },
  {
   "cell_type": "markdown",
   "metadata": {},
   "source": [
    "To get the precision/recall/f1 computed for each category now that we have finished training, we can apply the same function as before on the result of the `predict` method:"
   ]
  },
  {
   "cell_type": "code",
   "execution_count": 70,
   "metadata": {},
   "outputs": [
    {
     "data": {
      "text/plain": [
       "{'BOD': {'precision': 0.0, 'recall': 0.0, 'f1': 0.0, 'number': 154},\n",
       " 'BUILDING': {'precision': 0.0, 'recall': 0.0, 'f1': 0.0, 'number': 88},\n",
       " 'CARDISSUER': {'precision': 0.0, 'recall': 0.0, 'f1': 0.0, 'number': 0},\n",
       " 'CITY': {'precision': 0.0, 'recall': 0.0, 'f1': 0.0, 'number': 90},\n",
       " 'COUNTRY': {'precision': 0.0, 'recall': 0.0, 'f1': 0.0, 'number': 66},\n",
       " 'DATE': {'precision': 0.0, 'recall': 0.0, 'f1': 0.0, 'number': 98},\n",
       " 'DRIVERLICENSE': {'precision': 0.0, 'recall': 0.0, 'f1': 0.0, 'number': 116},\n",
       " 'EMAIL': {'precision': 0.0, 'recall': 0.0, 'f1': 0.0, 'number': 142},\n",
       " 'GEOCOORD': {'precision': 0.0, 'recall': 0.0, 'f1': 0.0, 'number': 19},\n",
       " 'GIVENNAME1': {'precision': 0.0, 'recall': 0.0, 'f1': 0.0, 'number': 129},\n",
       " 'GIVENNAME2': {'precision': 0.0, 'recall': 0.0, 'f1': 0.0, 'number': 34},\n",
       " 'IDCARD': {'precision': 0.0, 'recall': 0.0, 'f1': 0.0, 'number': 116},\n",
       " 'IP': {'precision': 0.0, 'recall': 0.0, 'f1': 0.0, 'number': 115},\n",
       " 'LASTNAME1': {'precision': 0.0, 'recall': 0.0, 'f1': 0.0, 'number': 149},\n",
       " 'LASTNAME2': {'precision': 0.0, 'recall': 0.0, 'f1': 0.0, 'number': 30},\n",
       " 'LASTNAME3': {'precision': 0.0, 'recall': 0.0, 'f1': 0.0, 'number': 13},\n",
       " 'PASS': {'precision': 0.0, 'recall': 0.0, 'f1': 0.0, 'number': 81},\n",
       " 'PASSPORT': {'precision': 0.0, 'recall': 0.0, 'f1': 0.0, 'number': 167},\n",
       " 'POSTCODE': {'precision': 0.0, 'recall': 0.0, 'f1': 0.0, 'number': 82},\n",
       " 'SECADDRESS': {'precision': 0.0, 'recall': 0.0, 'f1': 0.0, 'number': 32},\n",
       " 'SEX': {'precision': 0.0, 'recall': 0.0, 'f1': 0.0, 'number': 128},\n",
       " 'SOCIALNUMBER': {'precision': 0.0, 'recall': 0.0, 'f1': 0.0, 'number': 86},\n",
       " 'STATE': {'precision': 0.0, 'recall': 0.0, 'f1': 0.0, 'number': 96},\n",
       " 'STREET': {'precision': 0.0, 'recall': 0.0, 'f1': 0.0, 'number': 83},\n",
       " 'TEL': {'precision': 0.0, 'recall': 0.0, 'f1': 0.0, 'number': 147},\n",
       " 'TIME': {'precision': 0.0, 'recall': 0.0, 'f1': 0.0, 'number': 215},\n",
       " 'TITLE': {'precision': 0.0, 'recall': 0.0, 'f1': 0.0, 'number': 95},\n",
       " 'USERNAME': {'precision': 0.0, 'recall': 0.0, 'f1': 0.0, 'number': 153},\n",
       " 'overall_precision': 0.0,\n",
       " 'overall_recall': 0.0,\n",
       " 'overall_f1': 0.0,\n",
       " 'overall_accuracy': 0.7529317526433835}"
      ]
     },
     "execution_count": 70,
     "metadata": {},
     "output_type": "execute_result"
    }
   ],
   "source": [
    "predictions, labels, _ = trainer.predict(tokenized_datasets[\"validation\"])\n",
    "predictions = np.argmax(predictions, axis=2)\n",
    "\n",
    "# Remove ignored index (special tokens)\n",
    "true_predictions = [\n",
    "    [label_list[p] for (p, l) in zip(prediction, label) if l != -100]\n",
    "    for prediction, label in zip(predictions, labels)\n",
    "]\n",
    "true_labels = [\n",
    "    [label_list[l] for (p, l) in zip(prediction, label) if l != -100]\n",
    "    for prediction, label in zip(predictions, labels)\n",
    "]\n",
    "\n",
    "results = metric.compute(predictions=true_predictions, references=true_labels)\n",
    "results"
   ]
  },
  {
   "cell_type": "code",
   "execution_count": 71,
   "metadata": {},
   "outputs": [],
   "source": [
    "trainer.save_model()"
   ]
  },
  {
   "cell_type": "code",
   "execution_count": 72,
   "metadata": {},
   "outputs": [
    {
     "data": {
      "text/plain": [
       "[{'entity': 'LABEL_0',\n",
       "  'score': 0.0328758,\n",
       "  'index': 1,\n",
       "  'word': 'My',\n",
       "  'start': 0,\n",
       "  'end': 2},\n",
       " {'entity': 'LABEL_50',\n",
       "  'score': 0.029664248,\n",
       "  'index': 2,\n",
       "  'word': 'name',\n",
       "  'start': 3,\n",
       "  'end': 7},\n",
       " {'entity': 'LABEL_0',\n",
       "  'score': 0.029966153,\n",
       "  'index': 3,\n",
       "  'word': 'is',\n",
       "  'start': 8,\n",
       "  'end': 10},\n",
       " {'entity': 'LABEL_0',\n",
       "  'score': 0.034548488,\n",
       "  'index': 4,\n",
       "  'word': 'John',\n",
       "  'start': 11,\n",
       "  'end': 15},\n",
       " {'entity': 'LABEL_0',\n",
       "  'score': 0.034664508,\n",
       "  'index': 5,\n",
       "  'word': 'Smith',\n",
       "  'start': 16,\n",
       "  'end': 21},\n",
       " {'entity': 'LABEL_0',\n",
       "  'score': 0.028726818,\n",
       "  'index': 6,\n",
       "  'word': '.',\n",
       "  'start': 21,\n",
       "  'end': 22}]"
      ]
     },
     "execution_count": 72,
     "metadata": {},
     "output_type": "execute_result"
    }
   ],
   "source": [
    "from transformers import AutoTokenizer\n",
    "from transformers import pipeline\n",
    "import torch\n",
    "\n",
    "text = \"My name is John Smith.\"\n",
    "\n",
    "classifier = pipeline(\"ner\", model=f\"{model_name}-finetuned-{task}\")\n",
    "classifier(text)"
   ]
  },
  {
   "cell_type": "code",
   "execution_count": null,
   "metadata": {},
   "outputs": [],
   "source": []
  }
 ],
 "metadata": {
  "colab": {
   "name": "Token Classification",
   "provenance": []
  },
  "kernelspec": {
   "display_name": "Python 3 (ipykernel)",
   "language": "python",
   "name": "python3"
  },
  "language_info": {
   "codemirror_mode": {
    "name": "ipython",
    "version": 3
   },
   "file_extension": ".py",
   "mimetype": "text/x-python",
   "name": "python",
   "nbconvert_exporter": "python",
   "pygments_lexer": "ipython3",
   "version": "3.10.12"
  }
 },
 "nbformat": 4,
 "nbformat_minor": 4
}
